{
 "cells": [
  {
   "cell_type": "markdown",
   "id": "4e0cd8a1",
   "metadata": {},
   "source": [
    "# Assignment_1"
   ]
  },
  {
   "cell_type": "code",
   "execution_count": 2,
   "id": "cd22b37f",
   "metadata": {},
   "outputs": [],
   "source": [
    "# Who developed Python Pogramming Language?\n",
    "#Answer:-Python developed by Guido van Rossum, and released in 1991."
   ]
  },
  {
   "cell_type": "code",
   "execution_count": 3,
   "id": "a853c9f8",
   "metadata": {},
   "outputs": [],
   "source": [
    "#Which Type of programming Does Python Supports?\n",
    "#Answer:-Python supports Object-oriented programming and structured programming."
   ]
  },
  {
   "cell_type": "code",
   "execution_count": 4,
   "id": "1504dbca",
   "metadata": {},
   "outputs": [],
   "source": [
    "#Is Python case Sensitive when dealing with identifiers?\n",
    "#Answer:-Yes Python is casesensitive lnguage."
   ]
  },
  {
   "cell_type": "code",
   "execution_count": 5,
   "id": "614910fb",
   "metadata": {},
   "outputs": [],
   "source": [
    "#what is the correct extension of python file?\n",
    "#Answer:- the correct extension of the Python is:-(.py)"
   ]
  },
  {
   "cell_type": "code",
   "execution_count": 6,
   "id": "9e1b8bd9",
   "metadata": {},
   "outputs": [],
   "source": [
    "#Is Python code compiled or interpreted?\n",
    "#Answer:- the Python Code is Interpreted."
   ]
  },
  {
   "cell_type": "code",
   "execution_count": 7,
   "id": "528b31bd",
   "metadata": {},
   "outputs": [],
   "source": [
    "#Name a few Blocks of code used to define in python language?\n",
    "#Answer:-  Braces {} are used to define a block of code in Python."
   ]
  },
  {
   "cell_type": "code",
   "execution_count": 8,
   "id": "f916d6d1",
   "metadata": {},
   "outputs": [],
   "source": [
    "#State a Charecter used to give Single-line comments in python?\n",
    "#Answer:-used (#) for single line comments."
   ]
  },
  {
   "cell_type": "code",
   "execution_count": 11,
   "id": "54cfc03c",
   "metadata": {},
   "outputs": [],
   "source": [
    "#Mention functions which can help us to find the version of python that we are currently working on?\n",
    "#Answer :-used  (python -V) command in  cmd/terminal/windows powershell."
   ]
  },
  {
   "cell_type": "code",
   "execution_count": 13,
   "id": "1470c37f",
   "metadata": {},
   "outputs": [],
   "source": [
    "#Python Support the Creation of Anonymous functions at runtime,using a construct called?\n",
    "#Answer:-Anonymous functions at runtime in Python is lambda function."
   ]
  },
  {
   "cell_type": "code",
   "execution_count": 14,
   "id": "c85f943d",
   "metadata": {},
   "outputs": [],
   "source": [
    "#What does Pip stand for python?\n",
    "#Answer:-Pip Stand for in python is Preferred Installer Program."
   ]
  },
  {
   "cell_type": "code",
   "execution_count": 18,
   "id": "ec1ea525",
   "metadata": {},
   "outputs": [
    {
     "data": {
      "text/plain": [
       "\"\\nabs()\\tReturns the absolute value of a number\\nall()\\tReturns True if all items in an iterable object are true\\nany()\\tReturns True if any item in an iterable object is true\\nascii()\\tReturns a readable version of an object. Replaces none-ascii characters with escape character\\nbin()\\tReturns the binary version of a number\\nbool()\\tReturns the boolean value of the specified object\\nbytearray()\\tReturns an array of bytes\\nbytes()\\tReturns a bytes object\\ncallable()\\tReturns True if the specified object is callable, otherwise False\\nchr()\\tReturns a character from the specified Unicode code.\\nclassmethod()\\tConverts a method into a class method\\ncompile()\\tReturns the specified source as an object, ready to be executed\\ncomplex()\\tReturns a complex number\\ndelattr()\\tDeletes the specified attribute (property or method) from the specified object\\ndict()\\tReturns a dictionary (Array)\\ndir()\\tReturns a list of the specified object's properties and methods\\ndivmod()\\tReturns the quotient and the remainder when argument1 is divided by argument2\\nenumerate()\\tTakes a collection (e.g. a tuple) and returns it as an enumerate object\\neval()\\tEvaluates and executes an expression\\nexec()\\tExecutes the specified code (or object)\\nfilter()\\tUse a filter function to exclude items in an iterable object\\nfloat()\\tReturns a floating point number\\nformat()\\tFormats a specified value\\nfrozenset()\\tReturns a frozenset object\\ngetattr()\\tReturns the value of the specified attribute (property or method)\\nglobals()\\tReturns the current global symbol table as a dictionary\\nhasattr()\\tReturns True if the specified object has the specified attribute (property/method)\\nhash()\\tReturns the hash value of a specified object\\nhelp()\\tExecutes the built-in help system\\nhex()\\tConverts a number into a hexadecimal value\\nid()\\tReturns the id of an object\\ninput()\\tAllowing user input\\nint()\\tReturns an integer number\\nisinstance()\\tReturns True if a specified object is an instance of a specified object\\nissubclass()\\tReturns True if a specified class is a subclass of a specified object\\niter()\\tReturns an iterator object\\nlen()\\tReturns the length of an object\\nlist()\\tReturns a list\\nlocals()\\tReturns an updated dictionary of the current local symbol table\\nmap()\\tReturns the specified iterator with the specified function applied to each item\\nmax()\\tReturns the largest item in an iterable\\nmemoryview()\\tReturns a memory view object\\nmin()\\tReturns the smallest item in an iterable\\nnext()\\tReturns the next item in an iterable\\nobject()\\tReturns a new object\\noct()\\tConverts a number into an octal\\nopen()\\tOpens a file and returns a file object\\nord()\\tConvert an integer representing the Unicode of the specified character\\npow()\\tReturns the value of x to the power of y\\nprint()\\tPrints to the standard output device\\nproperty()\\tGets, sets, deletes a property\\nrange()\\tReturns a sequence of numbers, starting from 0 and increments by 1 (by default)\\nrepr()\\tReturns a readable version of an object\\nreversed()\\tReturns a reversed iterator\\nround()\\tRounds a numbers\""
      ]
     },
     "execution_count": 18,
     "metadata": {},
     "output_type": "execute_result"
    }
   ],
   "source": [
    "#Mention a few built-in function in python?\n",
    "'''\n",
    "abs()\tReturns the absolute value of a number\n",
    "all()\tReturns True if all items in an iterable object are true\n",
    "any()\tReturns True if any item in an iterable object is true\n",
    "ascii()\tReturns a readable version of an object. Replaces none-ascii characters with escape character\n",
    "bin()\tReturns the binary version of a number\n",
    "bool()\tReturns the boolean value of the specified object\n",
    "bytearray()\tReturns an array of bytes\n",
    "bytes()\tReturns a bytes object\n",
    "callable()\tReturns True if the specified object is callable, otherwise False\n",
    "chr()\tReturns a character from the specified Unicode code.\n",
    "classmethod()\tConverts a method into a class method\n",
    "compile()\tReturns the specified source as an object, ready to be executed\n",
    "complex()\tReturns a complex number\n",
    "delattr()\tDeletes the specified attribute (property or method) from the specified object\n",
    "dict()\tReturns a dictionary (Array)\n",
    "dir()\tReturns a list of the specified object's properties and methods\n",
    "divmod()\tReturns the quotient and the remainder when argument1 is divided by argument2\n",
    "enumerate()\tTakes a collection (e.g. a tuple) and returns it as an enumerate object\n",
    "eval()\tEvaluates and executes an expression\n",
    "exec()\tExecutes the specified code (or object)\n",
    "filter()\tUse a filter function to exclude items in an iterable object\n",
    "float()\tReturns a floating point number\n",
    "format()\tFormats a specified value\n",
    "frozenset()\tReturns a frozenset object\n",
    "getattr()\tReturns the value of the specified attribute (property or method)\n",
    "globals()\tReturns the current global symbol table as a dictionary\n",
    "hasattr()\tReturns True if the specified object has the specified attribute (property/method)\n",
    "hash()\tReturns the hash value of a specified object\n",
    "help()\tExecutes the built-in help system\n",
    "hex()\tConverts a number into a hexadecimal value\n",
    "id()\tReturns the id of an object\n",
    "input()\tAllowing user input\n",
    "int()\tReturns an integer number\n",
    "isinstance()\tReturns True if a specified object is an instance of a specified object\n",
    "issubclass()\tReturns True if a specified class is a subclass of a specified object\n",
    "iter()\tReturns an iterator object\n",
    "len()\tReturns the length of an object\n",
    "list()\tReturns a list\n",
    "locals()\tReturns an updated dictionary of the current local symbol table\n",
    "map()\tReturns the specified iterator with the specified function applied to each item\n",
    "max()\tReturns the largest item in an iterable\n",
    "memoryview()\tReturns a memory view object\n",
    "min()\tReturns the smallest item in an iterable\n",
    "next()\tReturns the next item in an iterable\n",
    "object()\tReturns a new object\n",
    "oct()\tConverts a number into an octal\n",
    "open()\tOpens a file and returns a file object\n",
    "ord()\tConvert an integer representing the Unicode of the specified character\n",
    "pow()\tReturns the value of x to the power of y\n",
    "print()\tPrints to the standard output device\n",
    "property()\tGets, sets, deletes a property\n",
    "range()\tReturns a sequence of numbers, starting from 0 and increments by 1 (by default)\n",
    "repr()\tReturns a readable version of an object\n",
    "reversed()\tReturns a reversed iterator\n",
    "round()\tRounds a numbers'''\n"
   ]
  },
  {
   "cell_type": "code",
   "execution_count": 19,
   "id": "539a51e9",
   "metadata": {},
   "outputs": [],
   "source": [
    "#What is the Maximum Possible Length of an Identifier in Python?\n",
    "#Answer:-79 Charector"
   ]
  },
  {
   "cell_type": "code",
   "execution_count": 20,
   "id": "42635e80",
   "metadata": {},
   "outputs": [],
   "source": [
    "#What are the Benefits of using Python?\n",
    "#Answer:-Data science,Scientific and mathematical computing,Web development,Finance and trading,System automation and administration.,Computer graphics,Basic game development,Security and penetration testing."
   ]
  },
  {
   "cell_type": "code",
   "execution_count": 21,
   "id": "ab24d2ea",
   "metadata": {},
   "outputs": [],
   "source": [
    "#how is memory managed in python?\n",
    "#Answer:-Memory management in Python involves a private heap containing all Python objects and data structures."
   ]
  },
  {
   "cell_type": "code",
   "execution_count": 23,
   "id": "7d8ef604",
   "metadata": {},
   "outputs": [
    {
     "data": {
      "text/plain": [
       "'\\nStep1: Download the Python Installer binaries.\\nStep 2: Run the Executable Installer.\\nStep 3: Add Python to environmental variables.\\nStep 4: Verify the Python Installation.\\n\\nSet A Path\\n\\nStep 5: Right-clicking This PC and going to Properties.\\nStep 6: Clicking on the Advanced system settings in the menu on the left.\\nStep 7: Clicking on the Environment Variables button o\\u200bn the bottom right.\\nStep 8: In the System variables section, selecting the Path variable and clicking on Edit.\\n'"
      ]
     },
     "execution_count": 23,
     "metadata": {},
     "output_type": "execute_result"
    }
   ],
   "source": [
    "#How to install Python On Windows and set path variables?\n",
    "'''\n",
    "Step1: Download the Python Installer binaries.\n",
    "Step 2: Run the Executable Installer.\n",
    "Step 3: Add Python to environmental variables.\n",
    "Step 4: Verify the Python Installation.\n",
    "\n",
    "Set A Path\n",
    "\n",
    "Step 5: Right-clicking This PC and going to Properties.\n",
    "Step 6: Clicking on the Advanced system settings in the menu on the left.\n",
    "Step 7: Clicking on the Environment Variables button o​n the bottom right.\n",
    "Step 8: In the System variables section, selecting the Path variable and clicking on Edit.\n",
    "'''"
   ]
  },
  {
   "cell_type": "code",
   "execution_count": 24,
   "id": "22e2a5e3",
   "metadata": {},
   "outputs": [],
   "source": [
    "# is Indentation required in Python?\n",
    "#Anwer:-  the indentation in Python is very important."
   ]
  },
  {
   "cell_type": "code",
   "execution_count": null,
   "id": "f5c1fb68",
   "metadata": {},
   "outputs": [],
   "source": []
  }
 ],
 "metadata": {
  "kernelspec": {
   "display_name": "Python 3 (ipykernel)",
   "language": "python",
   "name": "python3"
  },
  "language_info": {
   "codemirror_mode": {
    "name": "ipython",
    "version": 3
   },
   "file_extension": ".py",
   "mimetype": "text/x-python",
   "name": "python",
   "nbconvert_exporter": "python",
   "pygments_lexer": "ipython3",
   "version": "3.9.13"
  }
 },
 "nbformat": 4,
 "nbformat_minor": 5
}
